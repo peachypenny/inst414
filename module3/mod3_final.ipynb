{
  "nbformat": 4,
  "nbformat_minor": 0,
  "metadata": {
    "colab": {
      "provenance": []
    },
    "kernelspec": {
      "name": "python3",
      "display_name": "Python 3"
    },
    "language_info": {
      "name": "python"
    }
  },
  "cells": [
    {
      "cell_type": "code",
      "execution_count": 15,
      "metadata": {
        "colab": {
          "base_uri": "https://localhost:8080/"
        },
        "id": "PBQh4gzvSo6l",
        "outputId": "c5b22df8-ab1e-4268-c289-b0b7798b0d65"
      },
      "outputs": [
        {
          "output_type": "stream",
          "name": "stdout",
          "text": [
            "        latitude  longitude    acq_date  brightness   frp  acq_time  distance\n",
            "0        19.3891  -155.0651  2010-01-01       317.5  16.9       842  0.000000\n",
            "108194   19.3653  -155.0293  2011-02-21       317.4  17.2       842  0.316228\n",
            "872177   19.3857  -155.1061  2017-06-13       317.6  17.2       842  0.316228\n",
            "553373   19.4866  -154.9680  2014-11-12       317.5  16.5       842  0.400000\n",
            "450167   19.4113  -155.1056  2013-10-24       317.5  16.4       842  0.500000\n",
            "820519   19.3905  -155.0907  2017-01-04       317.0  16.9       842  0.500000\n",
            "264872   19.3756  -155.0675  2012-05-30       317.0  17.1       842  0.538516\n",
            "972523   19.3841  -155.0883  2017-12-22       317.8  16.4       842  0.583095\n",
            "171438   19.3883  -155.1039  2011-07-15       317.1  17.4       842  0.640312\n",
            "278404   19.3428  -155.0409  2012-07-01       318.0  17.3       842  0.640312\n"
          ]
        }
      ],
      "source": [
        "import pandas as pd\n",
        "from sklearn.metrics import pairwise\n",
        "\n",
        "df = pd.read_csv(\"fire.csv\")\n",
        "target_lat = 19.3891\n",
        "target_long = -155.0651\n",
        "hawaii_example = df[(df['latitude'] == target_lat) & (df['longitude'] == target_long)]\n",
        "\n",
        "if not hawaii_example.empty:\n",
        "    df.dropna(subset=['brightness', 'frp', 'acq_time'], inplace=True)\n",
        "    sim_feat = df[['brightness', 'frp', 'acq_time']]\n",
        "    target_feat = hawaii_example[['brightness', 'frp', 'acq_time']].dropna()\n",
        "    if not target_feat.empty:\n",
        "        dist = pairwise.euclidean_distances(sim_feat, target_feat)\n",
        "        df['distance'] = dist\n",
        "        df = df.sort_values(by='distance')\n",
        "        top_sim = df[['latitude', 'longitude', 'acq_date','brightness', 'frp', 'acq_time', 'distance']]\n",
        "        print(top_sim.head(10))\n",
        ""
      ]
    }
  ]
}