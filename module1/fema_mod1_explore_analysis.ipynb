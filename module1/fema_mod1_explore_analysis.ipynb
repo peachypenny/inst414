{
 "cells": [
  {
   "cell_type": "markdown",
   "metadata": {},
   "source": [
    "Module 1 Assignment - FEMA Exploratory Analysis\n",
    "INST 414 | Professor Buntain | Fall 2024\n",
    "\n",
    "Resources Used:\n",
    "- https://www.fema.gov/about/openfema/data-sets (Accessed 8th September, 2024)\n",
    "- https://pypi.org/project/tabulate/\n",
    "- ChatGPT was used periodically to debug code, particularly when it came to calculating percentages of non-numerical objects\n",
    "\n",
    "Citation statement: FEMA and the Federal Government cannot vouch for the data or analyses derived from these data after the data have been retrieved from the Agency's website.\n"
   ]
  },
  {
   "cell_type": "code",
   "execution_count": 38,
   "metadata": {},
   "outputs": [],
   "source": [
    "from tabulate import tabulate\n",
    "import pandas as pd\n",
    "import numpy as np\n",
    "\n",
    "df = pd.read_excel(\"C:/Users/pnewc/Desktop/fall_2024/inst414/fema_floods.xlsx\")\n",
    "df_filtered = df[['cfld_awareness', 'cfld_atleast1_prepaction', 'cfld_atleast3_prepaction', 'cfld_perception','cfld_exp','cfld_floodzone', 'census_region']]"
   ]
  },
  {
   "cell_type": "code",
   "execution_count": 39,
   "metadata": {},
   "outputs": [],
   "source": [
    "#filtering for only those respondents that live in flood prone areas\n",
    "flood_prone_areas = df_filtered[df_filtered['cfld_floodzone'] == 'Yes']\n",
    "\n",
    "#very likely\n",
    "very_likely = flood_prone_areas[flood_prone_areas['cfld_perception'] == 'Very likely']\n",
    "vl_one_action = (very_likely['cfld_atleast1_prepaction'] == 'Yes').mean() * 100\n",
    "vl_three_actions = (very_likely['cfld_atleast3_prepaction'] == 'Yes').mean() * 100\n",
    "vl_no_action = (very_likely['cfld_atleast1_prepaction'] == 'No').mean() * 100\n",
    "\n",
    "#likely\n",
    "likely = flood_prone_areas[flood_prone_areas['cfld_perception'] == 'Likely']\n",
    "l_one_action = (likely['cfld_atleast1_prepaction'] == 'Yes').mean() * 100\n",
    "l_three_actions = (likely['cfld_atleast3_prepaction'] == 'Yes').mean() * 100\n",
    "l_no_action = (likely['cfld_atleast1_prepaction'] == 'No').mean() * 100\n",
    "\n",
    "#unlikely\n",
    "unlikely = flood_prone_areas[flood_prone_areas['cfld_perception'] == 'Unlikely']\n",
    "ul_one_action = (unlikely['cfld_atleast1_prepaction'] == 'Yes').mean() * 100\n",
    "ul_three_actions = (unlikely['cfld_atleast3_prepaction'] == 'Yes').mean() * 100\n",
    "ul_no_action = (unlikely['cfld_atleast1_prepaction'] == 'No').mean() * 100\n",
    "\n",
    "#dont know\n",
    "dont_know = flood_prone_areas[flood_prone_areas['cfld_perception'] == \"Don't know\"]\n",
    "dk_one_action = (dont_know['cfld_atleast1_prepaction'] == 'Yes').mean() * 100\n",
    "dk_three_actions = (dont_know['cfld_atleast3_prepaction'] == 'Yes').mean() * 100\n",
    "dk_no_action = (dont_know['cfld_atleast1_prepaction'] == 'No').mean() * 100"
   ]
  },
  {
   "cell_type": "code",
   "execution_count": 40,
   "metadata": {},
   "outputs": [
    {
     "name": "stdout",
     "output_type": "stream",
     "text": [
      "-  -----------  -------  -------  --------\n",
      "0  Very Likely  91.7808  56.1644   8.21918\n",
      "1  Likely       85.1064  46.8085  14.8936\n",
      "2  Unlikely     57.1429   0       42.8571\n",
      "3  Don't Know   40       20       20\n",
      "-  -----------  -------  -------  --------\n"
     ]
    }
   ],
   "source": [
    "#visualizing it\n",
    "flood_table = {\n",
    "    'flood perception': [\"Very Likely\", \"Likely\", \"Unlikely\", \"Don't Know\"],\n",
    "    '% one preparedness action': [vl_one_action, l_one_action, ul_one_action, dk_one_action],\n",
    "    '% three or more preparedness actions': [vl_three_actions, l_three_actions, ul_three_actions, dk_three_actions],\n",
    "    '% no actions': [vl_no_action, l_no_action, ul_no_action, dk_no_action]\n",
    "}\n",
    "\n",
    "final_df = pd.DataFrame(flood_table)\n",
    "print(tabulate(final_df))"
   ]
  }
 ],
 "metadata": {
  "kernelspec": {
   "display_name": "Python 3",
   "language": "python",
   "name": "python3"
  },
  "language_info": {
   "codemirror_mode": {
    "name": "ipython",
    "version": 3
   },
   "file_extension": ".py",
   "mimetype": "text/x-python",
   "name": "python",
   "nbconvert_exporter": "python",
   "pygments_lexer": "ipython3",
   "version": "3.11.5"
  }
 },
 "nbformat": 4,
 "nbformat_minor": 2
}
